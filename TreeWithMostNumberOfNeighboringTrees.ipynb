{
 "cells": [
  {
   "cell_type": "code",
   "execution_count": null,
   "metadata": {},
   "outputs": [],
   "source": [
    "/**\n",
    "* The function returns tree id with the max number  of trees with the given radius\n",
    "* \n",
    "* It returns tuple (tree_id, count of tree with in the given radius)\n",
    "* \n",
    "* @param fileName fileName containing dataset\n",
    "* @param radius within which function finds the tree with maximumn number of neighboring trees\n",
    "*/\n",
    "def treeHavingMostNumberOfNeighboringTrees(fileName: String, radius: Int):(String, Int) = {\n",
    "    \n",
    "    // helper function to find out if the string can be converted into double\n",
    "    def isAllDigits(x: String) = x.matches(\"^-?[0-9]+(\\\\.[0-9]+)?$\") \n",
    "\n",
    "    // get all the lines skipping the header\n",
    "    val lines = scala.io.Source.fromFile(fileName).getLines.toList.tail\n",
    "    \n",
    "    // returns map of tree id -> (x-coordinate, y-cordinate)\n",
    "    val xyLocation:List[Map[String,(String, String)]] = lines.map(line => Map(line.split(\",\")(1) -> (line.split(\",\")(40), line.split(\",\")(41))))\n",
    "\n",
    "    // filters out the dataset in which x, y cordinate can not be converted to double\n",
    "    val xyLocationFiltered:List[Map[String,(String, String)]] = xyLocation.filter((line) => isAllDigits(line.values.toList.head._1) && isAllDigits(line.values.toList.head._2))\n",
    "\n",
    "    // converts the x-coordinate, y-cordinate to double\n",
    "    val xyLocationDoubleType:List[(String, (Double, Double))] = xyLocationFiltered.map(line => (line.keySet.toList.head -> (line.values.toList.head._1.toDouble, line.values.toList.head._2.toDouble)))\n",
    "\n",
    "    // helper function which filters the other tree if it is within the radius\n",
    "    def filterPointWithIn500(point:(String,(Double,Double))) =  xyLocationDoubleType.filter(otherPoint=> math.sqrt(math.pow((point._2._1 - otherPoint._2._1),2) + math.pow((point._2._2 - otherPoint._2._2),2)) < radius)\n",
    "\n",
    "    // returns list of tree and trees within the radius\n",
    "    val pointCountMap:List[Map[(String, (Double, Double)),List[(String, (Double, Double))]]] = for(point <- xyLocationDoubleType) yield { Map(point -> filterPointWithIn500(point)) }\n",
    "    \n",
    "    // get the tree id with the max number of neighbors\n",
    "    val (treeID, count) = (pointCountMap.map(x => (x.keys,x.values.toList.map(x => x.size).head)).sortBy(_._2).reverse.head._1.toList.head._1, pointCountMap.map(x => (x.keys,x.values.toList.map(x => x.size).head)).sortBy(_._2).reverse.head._2)\n",
    "\n",
    "    (treeID, count)\n",
    "}\n",
    "\n",
    "\n",
    "treeHavingMostNumberOfNeighboringTrees(\"/host/Users/projects/juypterNotebook/DisneyStreaming/2015StreetTreesCensus_TREES.csv\", 500)\n",
    "\n",
    "// output is: (String, Int) = (203726,5)\n"
   ]
  },
  {
   "cell_type": "code",
   "execution_count": null,
   "metadata": {},
   "outputs": [],
   "source": []
  }
 ],
 "metadata": {
  "kernelspec": {
   "display_name": "Apache Toree - Scala",
   "language": "scala",
   "name": "apache_toree_scala"
  },
  "language_info": {
   "codemirror_mode": "text/x-scala",
   "file_extension": ".scala",
   "mimetype": "text/x-scala",
   "name": "scala",
   "pygments_lexer": "scala",
   "version": "2.11.8"
  }
 },
 "nbformat": 4,
 "nbformat_minor": 2
}

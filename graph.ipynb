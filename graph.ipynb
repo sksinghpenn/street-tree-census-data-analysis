{
 "cells": [
  {
   "cell_type": "code",
   "execution_count": 2,
   "metadata": {},
   "outputs": [
    {
     "name": "stdout",
     "output_type": "stream",
     "text": [
      "[Stage 1:======                                                     (0 + 4) / 4]========>                                            (1 + 3) / 4]"
     ]
    },
    {
     "data": {
      "text/plain": [
       "spark = org.apache.spark.sql.SparkSession@3de841d4\n",
       "treeDF = [created_at: string, tree_id: string ... 40 more fields]\n",
       "thresholds = Array(-1.7976931348623157E308, 0.0, 0.0, 10.0, 20.0, 30.0, 40.0, 1.7976931348623157E308)\n",
       "_tmpHist = Array(0, 17932, 328456, 224856, 84112, 25322, 3110)\n",
       "histogram = [from: double, to: double ... 1 more field]\n"
      ]
     },
     "metadata": {},
     "output_type": "display_data"
    },
    {
     "data": {
      "text/plain": [
       "[from: double, to: double ... 1 more field]"
      ]
     },
     "execution_count": 2,
     "metadata": {},
     "output_type": "execute_result"
    }
   ],
   "source": [
    "\n",
    "\n",
    "import org.apache.spark.sql.functions._\n",
    "\n",
    "val spark = SparkSession.builder()\n",
    ".appName(\"StreetTreeCensus\")\n",
    ".getOrCreate()\n",
    "\n",
    "val treeDF = spark.read.format(\"csv\").option(\"header\",\"true\").load(\"/host/Users/projects/juypterNotebook/DisneyStreaming/2015StreetTreesCensus_TREES.csv\")\n",
    "treeDF.coalesce(4)\n",
    "treeDF.cache\n",
    "\n",
    "\n",
    "\n",
    "// NOTE: add minimum and maximum values to thresholds\n",
    "val thresholds: Array[Double] = Array(Double.MinValue, 0.0) ++ (((0.0 until 50.0 by 10).toArray ++ Array(Double.MaxValue)).map(_.toDouble))\n",
    "\n",
    "// Convert DataFrame to RDD and calculate histogram values\n",
    "val _tmpHist = treeDF.select($\"tree_dbh\" cast \"double\").rdd.map(r => r.getDouble(0)).histogram(thresholds)\n",
    "\n",
    "// Result DataFrame contains `from`, `to` range and the `value`.\n",
    "val histogram = sc.parallelize((thresholds, thresholds.tail, _tmpHist).zipped.toList).toDF(\"from\", \"to\", \"value\")\n",
    "\n"
   ]
  },
  {
   "cell_type": "code",
   "execution_count": null,
   "metadata": {},
   "outputs": [],
   "source": []
  }
 ],
 "metadata": {
  "kernelspec": {
   "display_name": "Apache Toree - Scala",
   "language": "scala",
   "name": "apache_toree_scala"
  },
  "language_info": {
   "codemirror_mode": "text/x-scala",
   "file_extension": ".scala",
   "mimetype": "text/x-scala",
   "name": "scala",
   "pygments_lexer": "scala",
   "version": "2.11.8"
  }
 },
 "nbformat": 4,
 "nbformat_minor": 2
}

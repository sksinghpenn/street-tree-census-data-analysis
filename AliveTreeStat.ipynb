{
 "cells": [
  {
   "cell_type": "code",
   "execution_count": 1,
   "metadata": {},
   "outputs": [
    {
     "name": "stdout",
     "output_type": "stream",
     "text": [
      "[Stage 4:==================================================>    (182 + 4) / 200]+--------------------+-------------+-------------+\n",
      "|          spc_common|     boroname|count(status)|\n",
      "+--------------------+-------------+-------------+\n",
      "|             NO NAME|        Bronx|            1|\n",
      "|             NO NAME|       Queens|            4|\n",
      "|'Schubert' chokec...|        Bronx|          575|\n",
      "|'Schubert' chokec...|     Brooklyn|         1308|\n",
      "|'Schubert' chokec...|    Manhattan|          163|\n",
      "|'Schubert' chokec...|       Queens|         2013|\n",
      "|'Schubert' chokec...|Staten Island|          829|\n",
      "|      American beech|        Bronx|           31|\n",
      "|      American beech|     Brooklyn|           83|\n",
      "|      American beech|    Manhattan|           22|\n",
      "|      American beech|       Queens|           88|\n",
      "|      American beech|Staten Island|           49|\n",
      "|        American elm|        Bronx|         1471|\n",
      "|        American elm|     Brooklyn|         2587|\n",
      "|        American elm|    Manhattan|         1698|\n",
      "|        American elm|       Queens|         1709|\n",
      "|        American elm|Staten Island|          510|\n",
      "|American hophornbeam|        Bronx|          185|\n",
      "|American hophornbeam|     Brooklyn|          366|\n",
      "|American hophornbeam|    Manhattan|           84|\n",
      "+--------------------+-------------+-------------+\n",
      "only showing top 20 rows\n",
      "\n",
      "Total Alive Tree: 652173\n",
      "Total Percentage of Alive Tree: 95.38\n"
     ]
    },
    {
     "data": {
      "text/plain": [
       "spark = org.apache.spark.sql.SparkSession@188ddcb4\n",
       "treeDF = [created_at: string, tree_id: string ... 40 more fields]\n",
       "totalAliveTreeCount = 652173\n",
       "allRowsDF = [spc_common: string, boroname: string ... 1 more field]\n",
       "cleanedAllRowDF = [spc_common: string, boroname: string ... 1 more field]\n",
       "totalAliveTree = 652173\n",
       "totalCount = 683788\n"
      ]
     },
     "metadata": {},
     "output_type": "display_data"
    },
    {
     "data": {
      "text/plain": [
       "683788"
      ]
     },
     "execution_count": 1,
     "metadata": {},
     "output_type": "execute_result"
    }
   ],
   "source": [
    "\n",
    "/*\n",
    "Question 2. Write code that will display the number of alive trees by species name (common) and by\n",
    "borough. Include totals and percent of totals. Usage of Spark or Pandas is acceptable.\n",
    "*/\n",
    "\n",
    "import org.apache.spark.sql.functions._\n",
    "\n",
    "val spark = SparkSession.builder()\n",
    ".appName(\"StreetTreeCensus\")\n",
    ".getOrCreate()\n",
    "\n",
    "val treeDF = spark.read.format(\"csv\").option(\"header\",\"true\").load(\"/host/Users/projects/juypterNotebook/DisneyStreaming/2015StreetTreesCensus_TREES.csv\")\n",
    "treeDF.coalesce(4)\n",
    "treeDF.cache\n",
    "treeDF.createOrReplaceTempView(\"treeDFTable\")\n",
    "\n",
    "\n",
    "\n",
    "val totalAliveTreeCount = treeDF.select(\"status\").where($\"status\" === \"Alive\").count\n",
    "\n",
    "val allRowsDF = spark.sql(\"select  spc_common, boroname, count(status) from treeDFTable where status='Alive' group by  spc_common, boroname order by  spc_common, boroname \")\n",
    "\n",
    "val cleanedAllRowDF = allRowsDF.na.fill(\"NO NAME\", Seq(\"spc_common\"))\n",
    "\n",
    "cleanedAllRowDF.show\n",
    "\n",
    "val totalAliveTree = treeDF.select(\"status\").where($\"status\" === \"Alive\").count\n",
    "val totalCount = treeDF.count\n",
    "println(s\"Total Alive Tree: ${totalAliveTreeCount}\")\n",
    "println(f\"Total Percentage of Alive Tree: ${(totalAliveTree.toDouble/totalCount) * 100}%.2f\")\n",
    "\n"
   ]
  },
  {
   "cell_type": "code",
   "execution_count": null,
   "metadata": {},
   "outputs": [],
   "source": []
  }
 ],
 "metadata": {
  "kernelspec": {
   "display_name": "Apache Toree - Scala",
   "language": "scala",
   "name": "apache_toree_scala"
  },
  "language_info": {
   "codemirror_mode": "text/x-scala",
   "file_extension": ".scala",
   "mimetype": "text/x-scala",
   "name": "scala",
   "pygments_lexer": "scala",
   "version": "2.11.8"
  }
 },
 "nbformat": 4,
 "nbformat_minor": 2
}

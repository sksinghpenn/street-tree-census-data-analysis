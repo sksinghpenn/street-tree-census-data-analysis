{
 "cells": [
  {
   "cell_type": "code",
   "execution_count": null,
   "metadata": {},
   "outputs": [],
   "source": [
    "/*\n",
    "Question 3: Create a histogram for tree_dbh (diameter of tree). What is the 90% percentile\n",
    "diameter? Create a visual depiction of this histogram.\n",
    "*/\n",
    "\n",
    "import org.apache.spark.sql.SparkSession\n",
    "import org.apache.spark.sql.functions._\n",
    "\n",
    "val sparkSession = SparkSession.builder\n",
    "  .master(\"local\")\n",
    "  .appName(\"my-spark-app\")\n",
    "  .config(\"spark.some.config.option\", \"config-value\")\n",
    "  .getOrCreate()\n",
    "\n",
    "val AccessKey = \"XXXXXXXXX\"\n",
    "// Encode the Secret Key as that can contain \"/\"\n",
    "val SecretKey = \"XXXXXXXXX\"\n",
    "val EncodedSecretKey = SecretKey.replace(\"/\", \"%2F\")\n",
    "val AwsBucketName = \"bucketName\"\n",
    "val MountName = \"dataset\"\n",
    "\n",
    "\n",
    "display(dbutils.fs.ls(s\"/mnt/$MountName\"))\n",
    "\n",
    "\n",
    "\n",
    "val treeDF = spark.read.format(\"csv\").option(\"header\",\"true\").load(s\"dbfs:/mnt/dataset/2015StreetTreesCensus_TREES.csv\")\n",
    "\n",
    "treeDF.createOrReplaceTempView(\"treeTable\")\n",
    "val treeDbhDF = spark.sql(\"select cast(tree_dbh as double) from treeTable\")\n",
    "display(treeDbhDF)"
   ]
  }
 ],
 "metadata": {
  "kernelspec": {
   "display_name": "Apache Toree - Scala",
   "language": "scala",
   "name": "apache_toree_scala"
  },
  "language_info": {
   "codemirror_mode": "text/x-scala",
   "file_extension": ".scala",
   "mimetype": "text/x-scala",
   "name": "scala",
   "pygments_lexer": "scala",
   "version": "2.11.8"
  }
 },
 "nbformat": 4,
 "nbformat_minor": 2
}
